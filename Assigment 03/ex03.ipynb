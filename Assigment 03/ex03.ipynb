{
 "cells": [
  {
   "cell_type": "markdown",
   "metadata": {},
   "source": [
    "find the eigen value 1 (Dominent value)\n"
   ]
  },
  {
   "cell_type": "code",
   "execution_count": 9,
   "metadata": {},
   "outputs": [
    {
     "name": "stdout",
     "output_type": "stream",
     "text": [
      "1\n",
      "2\n",
      "3\n",
      "4\n"
     ]
    }
   ],
   "source": [
    "N = int(input())\n",
    "frndsDict={} \n",
    "invitedList=set()\n",
    "\n",
    "def check(invt):\n",
    "    global frndsDict\n",
    "    global invitedList\n",
    "    bstFrnd = frndsDict[invt]\n",
    "    if bstFrnd!=invt:\n",
    "        if bstFrnd not in invitedList:\n",
    "            if frndsDict[bstFrnd]==invt:\n",
    "                invitedList.add(bstFrnd)\n",
    "                invitedList.add(invt)\n",
    "            else:\n",
    "                invitedList.add(invt)\n",
    "                invite(bstFrnd)\n",
    "                return\n",
    "        else:\n",
    "            invitedList.add(invt)\n",
    "    else:\n",
    "        invitedList.add(invt)\n",
    "\n",
    "for f in invitedFrnds:\n",
    "    if f not in invitedList:\n",
    "        check(f)\n",
    "\n",
    "for x in range(N):\n",
    "    frndsDict_pairs=list(map(int,input().strip().split()))\n",
    "    if len(frndsDict_pairs)==1:#if best friend is himself \n",
    "        frndsDict[frndsDict_pairs[0]]=frndsDict_pairs[0]\n",
    "    else:\n",
    "        frndsDict[frndsDict_pairs[0]]=frndsDict_pairs[1]\n",
    "M = int(input())\n",
    "invitedFrnds = list(input().strip().split())\n",
    "\n",
    "\n",
    "        \n",
    "print(len(invitedList))"
   ]
  },
  {
   "cell_type": "markdown",
   "metadata": {},
   "source": [
    "find the eigen value 2 (Second Dominant value)\n"
   ]
  },
  {
   "cell_type": "code",
   "execution_count": null,
   "metadata": {},
   "outputs": [],
   "source": [
    "a = set{}"
   ]
  },
  {
   "cell_type": "code",
   "execution_count": 7,
   "metadata": {},
   "outputs": [
    {
     "name": "stdout",
     "output_type": "stream",
     "text": [
      "second dominant eigen value = 4.0\n",
      "Corresponding eigen vector =  [[ 1. -1.  1.]]\n"
     ]
    }
   ],
   "source": [
    "A=np.array([[-11,-10,5],[5,4,-5],[-20,-20,4]])+6*np.identity(3)\n",
    "x=np.array([[1],[1],[1]])\n",
    "lamda=0\n",
    "p=0\n",
    "for i in range(55):\n",
    "    y=A@x\n",
    "    lamda=y[p][0]\n",
    "    yp=np.max(np.abs(y))\n",
    "    for r in range(3):\n",
    "        if abs(y[r][0])==yp:\n",
    "            yp=y[r][0]\n",
    "            p=r\n",
    "            break\n",
    "    x=y/yp\n",
    "print('second dominant eigen value =',np.round(lamda-6,5))\n",
    "print(\"Corresponding eigen vector = \",np.round(x.T,5))\n"
   ]
  },
  {
   "cell_type": "markdown",
   "metadata": {},
   "source": [
    "find the least eigen value\n"
   ]
  },
  {
   "cell_type": "code",
   "execution_count": 9,
   "metadata": {},
   "outputs": [
    {
     "name": "stdout",
     "output_type": "stream",
     "text": [
      "least eigen value = -1.0\n",
      "Corresponding eigen vector is :-  [[-1.  1. -0.]]\n"
     ]
    }
   ],
   "source": [
    "A=np.array([[-11,-10,5],[5,4,-5],[-20,-20,4]])\n",
    "x=np.array([[1],[1],[1]]) #initial vector for eigen vector\n",
    "q=1\n",
    "lamda=0\n",
    "for i in range(55):\n",
    "    y=np.linalg.inv(A-q*np.identity(3))@x\n",
    "    yp=np.max(np.abs(y))\n",
    "    for r in range(3):\n",
    "        if abs(y[r][0])==yp:\n",
    "            yp=y[r][0]\n",
    "            lamda=q+1/yp\n",
    "            p=r\n",
    "            break\n",
    "    x=y/yp\n",
    "print('least eigen value =',np.round(lamda,5))\n",
    "print(\"Corresponding eigen vector is :- \",np.round(x.T,5))"
   ]
  },
  {
   "cell_type": "code",
   "execution_count": 2,
   "metadata": {},
   "outputs": [
    {
     "name": "stdout",
     "output_type": "stream",
     "text": [
      "True\n"
     ]
    }
   ],
   "source": [
    "print(190000000<190000001)"
   ]
  },
  {
   "cell_type": "code",
   "execution_count": null,
   "metadata": {},
   "outputs": [],
   "source": []
  }
 ],
 "metadata": {
  "interpreter": {
   "hash": "f5ca2acd7cfffe1ba430de162f968a242c109575471a8c149f67da86ddb07b1e"
  },
  "kernelspec": {
   "display_name": "Python 3.10.2 ('cv')",
   "language": "python",
   "name": "python3"
  },
  "language_info": {
   "codemirror_mode": {
    "name": "ipython",
    "version": 3
   },
   "file_extension": ".py",
   "mimetype": "text/x-python",
   "name": "python",
   "nbconvert_exporter": "python",
   "pygments_lexer": "ipython3",
   "version": "3.10.4"
  },
  "orig_nbformat": 4
 },
 "nbformat": 4,
 "nbformat_minor": 2
}
